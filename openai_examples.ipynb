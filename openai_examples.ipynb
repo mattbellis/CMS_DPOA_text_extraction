{
 "cells": [
  {
   "cell_type": "markdown",
   "id": "f6253343-ef44-4e3b-986b-35a34a99cfad",
   "metadata": {},
   "source": [
    "# Quickstart\n",
    "\n",
    "https://platform.openai.com/docs/quickstart?language=python\n",
    "\n",
    "https://github.com/openai/openai-python\n",
    "\n",
    "At first, it didn't work, so I just generated a new key, like this person/people did. \n",
    "\n",
    "https://community.openai.com/t/incorrect-api-key-again-anyone/290854/3\n",
    "\n",
    "----\n",
    "\n",
    "See usage and cost here\n",
    "\n",
    "https://platform.openai.com/usage\n",
    "\n",
    "When I first started, I got an error that I had exceeded my quota. I looked up the error here\n",
    "\n",
    "https://platform.openai.com/docs/guides/error-codes/api-errors\n",
    "\n",
    "and found I needed to add a payment instrument / credit card. \n",
    "\n",
    "https://platform.openai.com/settings/organization/billing.\n",
    "\n",
    "----\n",
    "\n",
    "Some discussion of PDF file analysis here. \n",
    "\n",
    "https://platform.openai.com/docs/quickstart?language=python\n",
    "\n",
    "\n"
   ]
  },
  {
   "cell_type": "code",
   "execution_count": null,
   "id": "21be1ae4-0287-4508-978a-d77f089da616",
   "metadata": {},
   "outputs": [],
   "source": []
  },
  {
   "cell_type": "code",
   "execution_count": null,
   "id": "304f673f-5b03-4fd8-8e1f-ded47af3fbb1",
   "metadata": {},
   "outputs": [],
   "source": [
    "!echo $SHELL"
   ]
  },
  {
   "cell_type": "code",
   "execution_count": null,
   "id": "532081b3-7fca-4be0-8ee2-846fd3104225",
   "metadata": {},
   "outputs": [],
   "source": [
    "#!echo $OPENAI_API_KEY\n",
    "\n"
   ]
  },
  {
   "cell_type": "code",
   "execution_count": null,
   "id": "7fe0f2df-ce74-4036-88d2-37e73859b60e",
   "metadata": {},
   "outputs": [],
   "source": [
    "from openai import OpenAI\n",
    "\n",
    "import time"
   ]
  },
  {
   "cell_type": "code",
   "execution_count": null,
   "id": "74a5099e-ac1b-471f-8eb4-033fa54611c2",
   "metadata": {},
   "outputs": [],
   "source": [
    "start = time.time()\n",
    "print(start)"
   ]
  },
  {
   "cell_type": "code",
   "execution_count": null,
   "id": "b8847d3d-beaf-4af6-b8a3-75303ab541f0",
   "metadata": {},
   "outputs": [],
   "source": [
    "client = OpenAI()\n",
    "\n",
    "response = client.responses.create(\n",
    "    model=\"gpt-5\",\n",
    "    input=\"Write a one-sentence bedtime story about a unicorn.\"\n",
    ")\n",
    "\n",
    "print(response.output_text)"
   ]
  },
  {
   "cell_type": "code",
   "execution_count": null,
   "id": "bc13cbf2-0bf2-43f6-8085-c3199db0a8b5",
   "metadata": {},
   "outputs": [],
   "source": [
    "prompt = \"What is in this image?\"\n",
    "img_url = \"https://upload.wikimedia.org/wikipedia/commons/thumb/d/d5/2023_06_08_Raccoon1.jpg/1599px-2023_06_08_Raccoon1.jpg\"\n",
    "\n",
    "response = client.responses.create(\n",
    "    model=\"gpt-4o-mini\",\n",
    "    input=[\n",
    "        {\n",
    "            \"role\": \"user\",\n",
    "            \"content\": [\n",
    "                {\"type\": \"input_text\", \"text\": prompt},\n",
    "                {\"type\": \"input_image\", \"image_url\": f\"{img_url}\"},\n",
    "            ],\n",
    "        }\n",
    "    ],\n",
    ")"
   ]
  },
  {
   "cell_type": "code",
   "execution_count": null,
   "id": "b3c45d99-29b1-4ced-8e98-c12e1711efa4",
   "metadata": {},
   "outputs": [],
   "source": [
    "response.output_text"
   ]
  },
  {
   "cell_type": "markdown",
   "id": "6a5d4506-023f-432f-920a-d8937742179d",
   "metadata": {},
   "source": [
    "# Usage\n",
    "\n",
    "Processing the jet substructure paper with the prompt below used about 100k tokens and cost about $0.12. \n",
    "\n",
    "On 10/13/2025 it took about 43 seconds. \n",
    "\n",
    "When I ran it a second time, it's possible I was not charged for the second API call. Maybe it's cached?"
   ]
  },
  {
   "cell_type": "code",
   "execution_count": null,
   "id": "2514f467-311f-4ee4-9280-c06e3cb80df7",
   "metadata": {},
   "outputs": [],
   "source": [
    "client = OpenAI()\n",
    "\n",
    "file = client.files.create(\n",
    "    file=open(\"jet_substructure_paper.pdf\", \"rb\"),\n",
    "    purpose=\"user_data\"\n",
    ")\n",
    "\n",
    "myprompt = 'You are an expert at high energy particle physics and you understand jargon like \"events\" and datasets.'\n",
    "myprompt += 'You are also very, very careful and a good explainer. '\n",
    "myprompt += 'I need your help reading some documents and extracting some information. '\n",
    "myprompt += \"I'm looking for information on the dataset the authors used. So things like \\n\"\n",
    "myprompt += \"* Name of the dataset \\n\"\n",
    "myprompt += \"* Size in number of events \\n\"\n",
    "myprompt += \"* Size in number of files \\n\"\n",
    "myprompt += \"* Size in bytes \\n\"\n",
    "myprompt += \"I just uploaded to you a pdf of one of these papers. Can you try to extract that information?\"\n",
    "\n",
    "start = time.time()\n",
    "\n",
    "response = client.responses.create(\n",
    "    model=\"gpt-5\",\n",
    "    input=[\n",
    "        {\n",
    "            \"role\": \"user\",\n",
    "            \"content\": [\n",
    "                {\n",
    "                    \"type\": \"input_file\",\n",
    "                    \"file_id\": file.id,\n",
    "                },\n",
    "                {\n",
    "                    \"type\": \"input_text\",\n",
    "                    #\"text\": \"What is the title of this paper and who wrote it?\",\n",
    "                    \"text\": myprompt,\n",
    "                },\n",
    "            ]\n",
    "        }\n",
    "    ]\n",
    ")\n",
    "\n",
    "print(response.output_text)\n",
    "print()\n",
    "print(f\"Time to process: {time.time() - start:.2f} seconds\")"
   ]
  },
  {
   "cell_type": "code",
   "execution_count": null,
   "id": "0273fcb3-de2f-4f83-b867-9268069c4066",
   "metadata": {},
   "outputs": [],
   "source": []
  }
 ],
 "metadata": {
  "kernelspec": {
   "display_name": "Python 3 (ipykernel)",
   "language": "python",
   "name": "python3"
  },
  "language_info": {
   "codemirror_mode": {
    "name": "ipython",
    "version": 3
   },
   "file_extension": ".py",
   "mimetype": "text/x-python",
   "name": "python",
   "nbconvert_exporter": "python",
   "pygments_lexer": "ipython3",
   "version": "3.11.7"
  }
 },
 "nbformat": 4,
 "nbformat_minor": 5
}
