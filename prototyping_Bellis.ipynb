{
 "cells": [
  {
   "cell_type": "code",
   "execution_count": null,
   "id": "b9b04127-6079-4e87-b8ff-4885ca602c3d",
   "metadata": {},
   "outputs": [],
   "source": [
    "import pymupdf"
   ]
  },
  {
   "cell_type": "markdown",
   "id": "55176e9d-eaff-4913-9294-82157df6c646",
   "metadata": {},
   "source": [
    "You will want to download the PDF from this site. \n",
    "\n",
    "https://arxiv.org/abs/1704.05842\n",
    "\n",
    "Click on the right link \"View PDF\" and then save it and move it to this directory. "
   ]
  },
  {
   "cell_type": "code",
   "execution_count": null,
   "id": "3a35bb7a-0868-453d-bafc-24dadca8bd0f",
   "metadata": {},
   "outputs": [],
   "source": [
    "# Run this cell once\n",
    "\n",
    "!curl https://arxiv.org/pdf/1704.05842 -o jet_substructure_paper.pdf\n"
   ]
  },
  {
   "cell_type": "code",
   "execution_count": null,
   "id": "fe311951-0a64-4a0a-becb-ea1df36f18e2",
   "metadata": {},
   "outputs": [],
   "source": [
    "doc = pymupdf.open('jet_substructure_paper.pdf')\n",
    "\n",
    "doc"
   ]
  },
  {
   "cell_type": "code",
   "execution_count": null,
   "id": "442035ab-03ba-45a0-b8d9-38d0953b653c",
   "metadata": {},
   "outputs": [],
   "source": [
    "for page in doc:\n",
    "    text = page.get_text()\n",
    "    #print(text)\n",
    "    if text.find('dataset')>=0:\n",
    "        print(text)"
   ]
  },
  {
   "cell_type": "code",
   "execution_count": null,
   "id": "74b7cbef-1786-4188-86a3-e31190d351c9",
   "metadata": {},
   "outputs": [],
   "source": []
  }
 ],
 "metadata": {
  "kernelspec": {
   "display_name": "Python 3 (ipykernel)",
   "language": "python",
   "name": "python3"
  },
  "language_info": {
   "codemirror_mode": {
    "name": "ipython",
    "version": 3
   },
   "file_extension": ".py",
   "mimetype": "text/x-python",
   "name": "python",
   "nbconvert_exporter": "python",
   "pygments_lexer": "ipython3",
   "version": "3.11.8"
  }
 },
 "nbformat": 4,
 "nbformat_minor": 5
}
