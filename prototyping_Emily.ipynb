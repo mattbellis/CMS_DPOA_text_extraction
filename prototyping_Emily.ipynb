{
 "cells": [
  {
   "cell_type": "code",
   "execution_count": 7,
   "id": "3e36abb6",
   "metadata": {},
   "outputs": [],
   "source": [
    "import pymupdf\n",
    "import langextract as lx\n",
    "import textwrap\n"
   ]
  },
  {
   "cell_type": "code",
   "execution_count": null,
   "id": "a8734242",
   "metadata": {},
   "outputs": [],
   "source": [
    "# Run this cell once\n",
    "\n",
    "!curl https://arxiv.org/pdf/1704.05842 -o jet_substructure_paper.pdf"
   ]
  },
  {
   "cell_type": "code",
   "execution_count": null,
   "id": "13446619",
   "metadata": {},
   "outputs": [],
   "source": [
    "doc = pymupdf.open('jet_substructure_paper.pdf')\n",
    "\n",
    "doc"
   ]
  },
  {
   "cell_type": "code",
   "execution_count": null,
   "id": "02e8a68b",
   "metadata": {},
   "outputs": [],
   "source": [
    "for page in doc:\n",
    "    text = page.get_text()\n",
    "    print(text)"
   ]
  },
  {
   "cell_type": "code",
   "execution_count": null,
   "id": "732e74c1",
   "metadata": {},
   "outputs": [],
   "source": [
    "prompt = textwrap.dedent(\"\"\"\\\n",
    "    Look for mentions of  the specific dataset, mentions of number of events \n",
    "    used and/or disk/file size.\"\"\")"
   ]
  },
  {
   "cell_type": "code",
   "execution_count": null,
   "id": "49725d8b",
   "metadata": {},
   "outputs": [],
   "source": [
    "example1 = [\n",
    "    lx.data.ExampleData(\n",
    "        text = (\n",
    "            \"There are 1664 AOD files in the Jet Primary Dataset, corresponding to 20,022,826 events\"\n",
    "            \"and 2.0 Terabytes of disk space. Within CMSSW, it is possible to access the AOD files remotely through the\"\n",
    "            \"XRootD interface [218]. We found it more convenient to first download the AOD files and then process them locally,\" \n",
    "            \"being careful to maintain the same directory structure as on the Open Data servers in order to ensure consistency of the workflow.\"\n",
    "        ),\n",
    "        extractions = [\n",
    "            lx.data.Extraction(\n",
    "                extraction_class = \"Amount of data used, the specific dataset, and number of events\",\n",
    "                extraction_text = \"1664 AOD files in the Jet Primary Dataset, corresponding to 20,022,826 events and 2.0 Terabytes of disk space\",\n",
    "                attributes = {\n",
    "                    \"Dataset\": \"Jet Primary Dataset\",\n",
    "                    \"Number of files\": \"1664\",\n",
    "                    \"Number of events\": \"20,022,826\",\n",
    "                    \"Disk size\": \"2.0 Terabytes\"\n",
    "                },\n",
    "                \n",
    "            )\n",
    "        ]\n",
    "    )\n",
    "]\n",
    "\n",
    "example2 = [\n",
    "    lx.data.ExampleData(\n",
    "        text = (\n",
    "            \"The data used in this analysis corresponds to an integrated luminosity of 2.3 fb-1 of proton-proton collisions at √s = 13 TeV recorded by the CMS experiment\"\n",
    "            \"in 2015. The data were collected using a trigger that requires at least one jet with pT > 450 GeV and |η| < 3.0. After applying data quality criteria,\"\n",
    "            \"the total number of events passing the trigger is approximately 1.2 million, corresponding to a total disk size of about 150 GB.\"\n",
    "        ),\n",
    "        extractions = [\n",
    "            lx.data.Extraction(\n",
    "                extraction_class = \"Amount of data used, the specific dataset, and number of events\",\n",
    "                extraction_text = \"the total number of events passing the trigger is approximately 1.2 million, corresponding to a total disk size of about 150 GB\",\n",
    "                attributes = {\n",
    "                    \"Number of events\": \"approximately 1.2 million\",\n",
    "                    \"Experiment\": \"CMS\",\n",
    "                    \"Disk size\": \"150 GB\"\n",
    "                    \"Date\": \"2015\"\n",
    "                },\n",
    "                \n",
    "            ),      \n",
    "            \n",
    "        ]\n",
    "    \n",
    "    )\n",
    "]\n",
    "\n",
    "#example3 = []"
   ]
  }
 ],
 "metadata": {
  "kernelspec": {
   "display_name": ".venv",
   "language": "python",
   "name": "python3"
  },
  "language_info": {
   "codemirror_mode": {
    "name": "ipython",
    "version": 3
   },
   "file_extension": ".py",
   "mimetype": "text/x-python",
   "name": "python",
   "nbconvert_exporter": "python",
   "pygments_lexer": "ipython3",
   "version": "3.11.6"
  }
 },
 "nbformat": 4,
 "nbformat_minor": 5
}
