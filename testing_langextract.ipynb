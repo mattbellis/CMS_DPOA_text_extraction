{
 "cells": [
  {
   "cell_type": "code",
   "execution_count": null,
   "id": "f570afc8",
   "metadata": {},
   "outputs": [],
   "source": [
    "import pymupdf\n",
    "import langextract as lx\n",
    "import textwrap\n",
    "from dotenv import load_dotenv\n",
    "import os"
   ]
  },
  {
   "cell_type": "code",
   "execution_count": null,
   "id": "04ad162b",
   "metadata": {},
   "outputs": [],
   "source": [
    "#Setting up Google Gemini API Key \n",
    "\n",
    "load_dotenv()\n",
    "\n",
    "api_key = os.getenv('LANGEXTRACT_API_KEY')"
   ]
  },
  {
   "cell_type": "code",
   "execution_count": null,
   "id": "5e6aad06",
   "metadata": {},
   "outputs": [],
   "source": [
    "# 1. Define a concise prompt\n",
    "prompt = textwrap.dedent(\"\"\"\\\n",
    "Extract characters, emotions, and relationships in order of appearance.\n",
    "Use exact text for extractions. Do not paraphrase or overlap entities.\n",
    "Provide meaningful attributes for each entity to add context.\"\"\")\n",
    "\n",
    "# 2. Provide a high-quality example to guide the model\n",
    "examples = [\n",
    "    lx.data.ExampleData(\n",
    "        text=(\n",
    "            \"ROMEO. But soft! What light through yonder window breaks? It is\"\n",
    "            \" the east, and Juliet is the sun.\"\n",
    "        ),\n",
    "        extractions=[\n",
    "            lx.data.Extraction(\n",
    "                extraction_class=\"character\",\n",
    "                extraction_text=\"ROMEO\",\n",
    "                attributes={\"emotional_state\": \"wonder\"},\n",
    "            ),\n",
    "            lx.data.Extraction(\n",
    "                extraction_class=\"emotion\",\n",
    "                extraction_text=\"But soft!\",\n",
    "                attributes={\"feeling\": \"gentle awe\"},\n",
    "            ),\n",
    "            lx.data.Extraction(\n",
    "                extraction_class=\"relationship\",\n",
    "                extraction_text=\"Juliet is the sun\",\n",
    "                attributes={\"type\": \"metaphor\"},\n",
    "            ),\n",
    "        ],\n",
    "    )\n",
    "]\n",
    "\n",
    "# 3. Run the extraction on your input text\n",
    "input_text = (\n",
    "    \"Lady Juliet gazed longingly at the stars, her heart aching for Romeo\"\n",
    ")\n",
    "\n",
    "\n",
    "\n",
    "result = lx.extract(\n",
    "    text_or_documents=input_text,\n",
    "    prompt_description=prompt,\n",
    "    examples=examples,\n",
    "    model_id=\"gemini-2.5-flash\",\n",
    "    api_key= api_key,\n",
    ")\n",
    "   "
   ]
  },
  {
   "cell_type": "code",
   "execution_count": null,
   "id": "f4cb5446",
   "metadata": {},
   "outputs": [],
   "source": [
    "# Save and visualize the results\n",
    "lx.io.save_annotated_documents([result], output_name=\"romeo_juliet_extraction.jsonl\", output_dir=\".\")\n",
    "\n",
    "# Generate the interactive visualization\n",
    "html_content = lx.visualize(\"romeo_juliet_extraction.jsonl\")\n",
    "with open(\"romeo_juliet_extraction.html\", \"w\", encoding='utf-8') as f:\n",
    "    if hasattr(html_content, 'data'):\n",
    "        f.write(html_content.data)  \n",
    "    else:\n",
    "        f.write(html_content)\n",
    "\n",
    "print(\"Interactive visualization saved to romeo_juliet_extraction_visualization.html\")\n"
   ]
  }
 ],
 "metadata": {
  "kernelspec": {
   "display_name": ".venv",
   "language": "python",
   "name": "python3"
  },
  "language_info": {
   "codemirror_mode": {
    "name": "ipython",
    "version": 3
   },
   "file_extension": ".py",
   "mimetype": "text/x-python",
   "name": "python",
   "nbconvert_exporter": "python",
   "pygments_lexer": "ipython3",
   "version": "3.11.6"
  }
 },
 "nbformat": 4,
 "nbformat_minor": 5
}
