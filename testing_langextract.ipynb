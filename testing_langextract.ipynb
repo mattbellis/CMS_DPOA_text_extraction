{
 "cells": [
  {
   "cell_type": "code",
   "execution_count": 10,
   "id": "f570afc8",
   "metadata": {},
   "outputs": [],
   "source": [
    "import pymupdf\n",
    "import langextract as lx\n",
    "import textwrap\n",
    "from dotenv import load_dotenv\n",
    "import os"
   ]
  },
  {
   "cell_type": "code",
   "execution_count": 11,
   "id": "04ad162b",
   "metadata": {},
   "outputs": [],
   "source": [
    "#Setting up Google Gemini API Key \n",
    "\n",
    "load_dotenv()\n",
    "\n",
    "api_key = os.getenv('LANGEXTRACT_API_KEY')"
   ]
  },
  {
   "cell_type": "code",
   "execution_count": 12,
   "id": "5e6aad06",
   "metadata": {},
   "outputs": [],
   "source": [
    "# 1. Define a concise prompt\n",
    "prompt = textwrap.dedent(\"\"\"\\\n",
    "Extract characters, emotions, and relationships in order of appearance.\n",
    "Use exact text for extractions. Do not paraphrase or overlap entities.\n",
    "Provide meaningful attributes for each entity to add context.\"\"\")\n",
    "\n",
    "# 2. Provide a high-quality example to guide the model\n",
    "examples = [\n",
    "    lx.data.ExampleData(\n",
    "        text=(\n",
    "            \"ROMEO. But soft! What light through yonder window breaks? It is\"\n",
    "            \" the east, and Juliet is the sun.\"\n",
    "        ),\n",
    "        extractions=[\n",
    "            lx.data.Extraction(\n",
    "                extraction_class=\"character\",\n",
    "                extraction_text=\"ROMEO\",\n",
    "                attributes={\"emotional_state\": \"wonder\"},\n",
    "            ),\n",
    "            lx.data.Extraction(\n",
    "                extraction_class=\"emotion\",\n",
    "                extraction_text=\"But soft!\",\n",
    "                attributes={\"feeling\": \"gentle awe\"},\n",
    "            ),\n",
    "            lx.data.Extraction(\n",
    "                extraction_class=\"relationship\",\n",
    "                extraction_text=\"Juliet is the sun\",\n",
    "                attributes={\"type\": \"metaphor\"},\n",
    "            ),\n",
    "        ],\n",
    "    )\n",
    "]\n",
    "\n",
    "# 3. Run the extraction on your input text\n",
    "input_text = (\n",
    "    \"Lady Juliet gazed longingly at the stars, her heart aching for Romeo\"\n",
    ")\n",
    "\n",
    "\n",
    "\n",
    "result = lx.extract(\n",
    "    text_or_documents=input_text,\n",
    "    prompt_description=prompt,\n",
    "    examples=examples,\n",
    "    model_id=\"gemini-2.5-flash\",\n",
    "    api_key= api_key,\n",
    ")\n",
    "   "
   ]
  },
  {
   "cell_type": "code",
   "execution_count": 14,
   "id": "f4cb5446",
   "metadata": {},
   "outputs": [
    {
     "name": "stderr",
     "output_type": "stream",
     "text": [
      "\u001b[94m\u001b[1mLangExtract\u001b[0m: Saving to \u001b[92mtest_output\\extraction_results.jsonl\u001b[0m: 1 docs [00:00, 249.10 docs/s]"
     ]
    },
    {
     "name": "stdout",
     "output_type": "stream",
     "text": [
      "\u001b[92m✓\u001b[0m Saved \u001b[1m1\u001b[0m documents to \u001b[92mtest_output\\extraction_results.jsonl\u001b[0m\n",
      "Saved extraction results to extraction_results.jsonl\n",
      "Visualization generation failed: JSONL file not found: extraction_results.jsonl\n",
      "Saved extraction results to extraction_results.jsonl\n",
      "Visualization generation failed: JSONL file not found: extraction_results.jsonl\n"
     ]
    },
    {
     "name": "stderr",
     "output_type": "stream",
     "text": [
      "\n"
     ]
    }
   ],
   "source": [
    "# Save the results to a JSONL file if extraction succeeded\n",
    "if result is not None:\n",
    "    try:\n",
    "        output_name = \"extraction_results.jsonl\"\n",
    "        lx.io.save_annotated_documents([result], output_name=output_name)\n",
    "        print(f\"Saved extraction results to {output_name}\")\n",
    "    except Exception as e:\n",
    "        print(f\"Failed to save extraction results: {e}\")\n",
    "\n",
    "    # Generate the interactive visualization from the file\n",
    "    try:\n",
    "        html_content = lx.visualize(output_name)\n",
    "        vis_path = \"visualization.html\"\n",
    "        with open(vis_path, \"w\", encoding=\"utf-8\") as f:\n",
    "            f.write(html_content)\n",
    "        print(f\"Saved visualization to {vis_path}\")\n",
    "    except Exception as e:\n",
    "        print(f\"Visualization generation failed: {e}\")\n",
    "else:\n",
    "    print(\"No result to save or visualize.\")\n"
   ]
  }
 ],
 "metadata": {
  "kernelspec": {
   "display_name": ".venv",
   "language": "python",
   "name": "python3"
  },
  "language_info": {
   "codemirror_mode": {
    "name": "ipython",
    "version": 3
   },
   "file_extension": ".py",
   "mimetype": "text/x-python",
   "name": "python",
   "nbconvert_exporter": "python",
   "pygments_lexer": "ipython3",
   "version": "3.11.6"
  }
 },
 "nbformat": 4,
 "nbformat_minor": 5
}
